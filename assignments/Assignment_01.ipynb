{
  "cells": [
    {
      "cell_type": "markdown",
      "metadata": {
        "id": "view-in-github",
        "colab_type": "text"
      },
      "source": [
        "<a href=\"https://colab.research.google.com/github/Abhigna8/rishi-college/blob/main/assignments/Assignment_01.ipynb\" target=\"_parent\"><img src=\"https://colab.research.google.com/assets/colab-badge.svg\" alt=\"Open In Colab\"/></a>"
      ]
    },
    {
      "cell_type": "markdown",
      "id": "548b84c2-e24f-4a12-98bb-5e7bd5ec86bd",
      "metadata": {
        "id": "548b84c2-e24f-4a12-98bb-5e7bd5ec86bd"
      },
      "source": [
        "# Python"
      ]
    },
    {
      "cell_type": "markdown",
      "id": "99fbfc45-ba9e-4766-8219-f5dbcacc8481",
      "metadata": {
        "id": "99fbfc45-ba9e-4766-8219-f5dbcacc8481"
      },
      "source": [
        "<a target=\"_blank\" href=\"https://colab.research.google.com/github/kgsb24/rishi-college/blob/main/assignments/Assignment_01.ipynb\">\n",
        "  <img src=\"https://colab.research.google.com/assets/colab-badge.svg\" alt=\"Open In Colab\"/>\n",
        "</a>"
      ]
    },
    {
      "cell_type": "markdown",
      "id": "07a1f870-f905-4703-8b65-12e83172133a",
      "metadata": {
        "id": "07a1f870-f905-4703-8b65-12e83172133a"
      },
      "source": [
        "## Basic Python Fundamentals"
      ]
    },
    {
      "cell_type": "code",
      "execution_count": null,
      "id": "502e1d87-2fdd-4588-a330-2af21268215e",
      "metadata": {
        "id": "502e1d87-2fdd-4588-a330-2af21268215e",
        "colab": {
          "base_uri": "https://localhost:8080/"
        },
        "outputId": "ab043fa9-349b-44e4-a1a1-5cebbb63d94c"
      },
      "outputs": [
        {
          "output_type": "execute_result",
          "data": {
            "text/plain": [
              "int"
            ]
          },
          "metadata": {},
          "execution_count": 24
        }
      ],
      "source": [
        "# Write a Python program to declare a variable x with the value 10 and print its type.\n",
        "x=10\n",
        "type(x)"
      ]
    },
    {
      "cell_type": "code",
      "execution_count": null,
      "id": "dae77579-4b7d-4f06-96e0-7bdfe43860d7",
      "metadata": {
        "id": "dae77579-4b7d-4f06-96e0-7bdfe43860d7",
        "colab": {
          "base_uri": "https://localhost:8080/"
        },
        "outputId": "d3c41ca9-b4e6-4000-b7f0-438439766eab"
      },
      "outputs": [
        {
          "output_type": "execute_result",
          "data": {
            "text/plain": [
              "30"
            ]
          },
          "metadata": {},
          "execution_count": 25
        }
      ],
      "source": [
        "# Write a Python program to declare three variables a = 5, b = 10, and c = 15, and print their sum.\n",
        "a=5\n",
        "b=10\n",
        "c=15\n",
        "a+b+c"
      ]
    },
    {
      "cell_type": "code",
      "execution_count": null,
      "id": "c32867b2-a615-426a-89ae-bd2793b6a4dc",
      "metadata": {
        "id": "c32867b2-a615-426a-89ae-bd2793b6a4dc",
        "colab": {
          "base_uri": "https://localhost:8080/"
        },
        "outputId": "52bf39ce-6a0a-439e-a1b1-c88a47b7297e"
      },
      "outputs": [
        {
          "output_type": "execute_result",
          "data": {
            "text/plain": [
              "str"
            ]
          },
          "metadata": {},
          "execution_count": 26
        }
      ],
      "source": [
        "# Write a Python program that checks and prints the type of a variable (e.g., int, float, str, etc.).\n",
        "name=\"abhi\"\n",
        "type(name)"
      ]
    },
    {
      "cell_type": "code",
      "execution_count": null,
      "id": "8b233e41-9d44-4869-9ead-afb3ff1c0b67",
      "metadata": {
        "id": "8b233e41-9d44-4869-9ead-afb3ff1c0b67",
        "colab": {
          "base_uri": "https://localhost:8080/"
        },
        "outputId": "e38a5597-9715-4b18-8b72-68ee014a7364"
      },
      "outputs": [
        {
          "output_type": "stream",
          "name": "stdout",
          "text": [
            "20\n",
            "0\n",
            "100\n",
            "1.0\n"
          ]
        }
      ],
      "source": [
        "# Write a Python program to perform addition, subtraction, multiplication, and division on two numbers. (User input is required for the numbers)\n",
        "num1=10\n",
        "num2=10\n",
        "print(num1+num2)\n",
        "print(num1-num2)\n",
        "print(num1*num2)\n",
        "print(num1/num2)"
      ]
    },
    {
      "cell_type": "code",
      "execution_count": null,
      "id": "629435bd-6bfa-44de-91d9-3b2937713257",
      "metadata": {
        "id": "629435bd-6bfa-44de-91d9-3b2937713257",
        "colab": {
          "base_uri": "https://localhost:8080/"
        },
        "outputId": "38356030-4d0c-49bc-a48a-f01852f25bd9"
      },
      "outputs": [
        {
          "output_type": "stream",
          "name": "stdout",
          "text": [
            "123\n",
            "123.0\n"
          ]
        }
      ],
      "source": [
        "# Write a Python program to convert a string \"123\" to an integer and a float and print the results.\n",
        "x=\"123\"\n",
        "integer_value=int(x)\n",
        "float_value=float(x)\n",
        "print(integer_value)\n",
        "print(float_value)"
      ]
    },
    {
      "cell_type": "code",
      "execution_count": null,
      "id": "599421f1-51c1-4653-9d78-b007fcc6861b",
      "metadata": {
        "id": "599421f1-51c1-4653-9d78-b007fcc6861b",
        "colab": {
          "base_uri": "https://localhost:8080/"
        },
        "outputId": "c62b8afb-d53c-44ee-b9b9-2c2a121e77a7"
      },
      "outputs": [
        {
          "output_type": "stream",
          "name": "stdout",
          "text": [
            "h\n"
          ]
        }
      ],
      "source": [
        "# Write a Python program to print the first character of a given string. (User input for the string)\n",
        "string=\"hello\"\n",
        "print(string[0])"
      ]
    },
    {
      "cell_type": "code",
      "execution_count": null,
      "id": "54ee0a5d-415f-40b6-b82e-c0de12a002f9",
      "metadata": {
        "id": "54ee0a5d-415f-40b6-b82e-c0de12a002f9",
        "colab": {
          "base_uri": "https://localhost:8080/"
        },
        "outputId": "8b608e14-67bb-4347-d5ee-04173ca03634"
      },
      "outputs": [
        {
          "output_type": "execute_result",
          "data": {
            "text/plain": [
              "6"
            ]
          },
          "metadata": {},
          "execution_count": 31
        }
      ],
      "source": [
        "# Write a Python program to print the length of a string. (User input for the string)\n",
        "name=\"vaishu\"\n",
        "len(name)"
      ]
    },
    {
      "cell_type": "code",
      "execution_count": null,
      "id": "65f44c33-618e-4337-a9d1-9de888c93a0a",
      "metadata": {
        "id": "65f44c33-618e-4337-a9d1-9de888c93a0a",
        "colab": {
          "base_uri": "https://localhost:8080/"
        },
        "outputId": "f48740a3-f116-40e0-b6a8-133453b14116"
      },
      "outputs": [
        {
          "output_type": "execute_result",
          "data": {
            "text/plain": [
              "True"
            ]
          },
          "metadata": {},
          "execution_count": 32
        }
      ],
      "source": [
        "# Write a Python program to check if a given string contains only alphabets.\n",
        "name=\"abhi\"\n",
        "str.isalpha(name)"
      ]
    },
    {
      "cell_type": "code",
      "execution_count": null,
      "id": "37463128-2b51-4860-b6bf-40d3c03fbe84",
      "metadata": {
        "id": "37463128-2b51-4860-b6bf-40d3c03fbe84",
        "colab": {
          "base_uri": "https://localhost:8080/"
        },
        "outputId": "ca7e93df-b666-4002-e77e-d7f7b1a4e86e"
      },
      "outputs": [
        {
          "output_type": "stream",
          "name": "stdout",
          "text": [
            "helloworld\n"
          ]
        }
      ],
      "source": [
        "# Write a Python program to concatenate two strings. (User input for the strings)\n",
        "s1=\"hello\"\n",
        "s2=\"world\"\n",
        "s3=s1+\"\"+s2\n",
        "print(s3)"
      ]
    },
    {
      "cell_type": "code",
      "execution_count": null,
      "id": "b1c5d364-eccf-473a-b03a-ab15f3e917cf",
      "metadata": {
        "id": "b1c5d364-eccf-473a-b03a-ab15f3e917cf",
        "outputId": "2d9ee845-c90d-4dac-d108-d8d6122b2954",
        "colab": {
          "base_uri": "https://localhost:8080/"
        }
      },
      "outputs": [
        {
          "output_type": "stream",
          "name": "stdout",
          "text": [
            "0\n"
          ]
        }
      ],
      "source": [
        "# Write a Python program to find the index of a substring \"abc\" in a string. (User input for the string)\n",
        "s=\"abcdef\"\n",
        "print(s.index(\"abc\"))"
      ]
    },
    {
      "cell_type": "code",
      "execution_count": null,
      "id": "cc92afd9-ba4b-4934-a79d-f26825b4efc2",
      "metadata": {
        "id": "cc92afd9-ba4b-4934-a79d-f26825b4efc2",
        "outputId": "500594ef-04b1-4803-c7e9-e9edbe65289b",
        "colab": {
          "base_uri": "https://localhost:8080/"
        }
      },
      "outputs": [
        {
          "output_type": "stream",
          "name": "stdout",
          "text": [
            "hello abhigna\n",
            "HELLO ABHIGNA\n"
          ]
        }
      ],
      "source": [
        "# Write a Python program to convert a string to both uppercase and lowercase. (User input for the string)\n",
        "name=(\"Hello Abhigna\")\n",
        "print(name.lower())\n",
        "print(name.upper())"
      ]
    },
    {
      "cell_type": "code",
      "execution_count": null,
      "id": "f24f79b3-da8b-44bf-8310-c68442e86e3e",
      "metadata": {
        "id": "f24f79b3-da8b-44bf-8310-c68442e86e3e",
        "outputId": "0248da97-2f75-4a31-bf89-1c4551493c8b",
        "colab": {
          "base_uri": "https://localhost:8080/"
        }
      },
      "outputs": [
        {
          "output_type": "stream",
          "name": "stdout",
          "text": [
            "the count from letter a: 3\n"
          ]
        }
      ],
      "source": [
        "# Write a Python program to count how many times a particular character appears in a string. (User input for string and character)\n",
        "string=\"banana\"\n",
        "c=string.count('a',1)\n",
        "print('the count from letter a:',c)"
      ]
    },
    {
      "cell_type": "code",
      "execution_count": null,
      "id": "f2e8f25c-5c34-44eb-b749-7cc4c100b9a8",
      "metadata": {
        "id": "f2e8f25c-5c34-44eb-b749-7cc4c100b9a8",
        "outputId": "243f72a7-c61c-416e-e509-1838946d32f0",
        "colab": {
          "base_uri": "https://localhost:8080/"
        }
      },
      "outputs": [
        {
          "output_type": "stream",
          "name": "stdout",
          "text": [
            "hello,whats your name?abhi\n",
            "helloabhigood morning\n"
          ]
        }
      ],
      "source": [
        "# Write a Python program to take the user's name as input and print a personalized greeting. (Hello, username, Good Morning)\n",
        "name=input(\"hello,whats your name?\")\n",
        "print(\"hello\"+name+\"good morning\")"
      ]
    },
    {
      "cell_type": "code",
      "execution_count": null,
      "id": "189296cf-77e6-4f48-b010-77458da5bc9d",
      "metadata": {
        "id": "189296cf-77e6-4f48-b010-77458da5bc9d",
        "outputId": "f2b14afa-d560-4f72-a423-548b9ddcf385",
        "colab": {
          "base_uri": "https://localhost:8080/"
        }
      },
      "outputs": [
        {
          "output_type": "execute_result",
          "data": {
            "text/plain": [
              "15"
            ]
          },
          "metadata": {},
          "execution_count": 5
        }
      ],
      "source": [
        "# Write a Python program to take two numbers as input and print their sum.\n",
        "a=5\n",
        "b=10\n",
        "a+b"
      ]
    },
    {
      "cell_type": "code",
      "execution_count": null,
      "id": "0563b26c-0218-47b8-9035-98beb73b0931",
      "metadata": {
        "id": "0563b26c-0218-47b8-9035-98beb73b0931",
        "outputId": "9c741db3-8af8-4382-dec0-d212a14a9b99",
        "colab": {
          "base_uri": "https://localhost:8080/"
        }
      },
      "outputs": [
        {
          "output_type": "stream",
          "name": "stdout",
          "text": [
            "enter name:abhi\n",
            "age:20\n",
            "{'abhi'} {'20'}\n"
          ]
        }
      ],
      "source": [
        "# Write a Python program to format and display a string containing the user's name and age. (User input required)\n",
        "name=input(\"enter name:\")\n",
        "age=input(\"age:\")\n",
        "print({name},{age})"
      ]
    },
    {
      "cell_type": "markdown",
      "id": "0bde6e5a-0415-4b06-8b5a-95fa252b34eb",
      "metadata": {
        "id": "0bde6e5a-0415-4b06-8b5a-95fa252b34eb"
      },
      "source": [
        "## Control Structures (Conditionals and Loops)"
      ]
    },
    {
      "cell_type": "code",
      "execution_count": null,
      "id": "aefff5f3-b61e-43e6-a458-7367ef1af9de",
      "metadata": {
        "id": "aefff5f3-b61e-43e6-a458-7367ef1af9de",
        "outputId": "6ead6f40-8f5d-4aa6-f600-90897074f3b4",
        "colab": {
          "base_uri": "https://localhost:8080/"
        }
      },
      "outputs": [
        {
          "output_type": "stream",
          "name": "stdout",
          "text": [
            "enter a number:10\n",
            "positive number\n"
          ]
        }
      ],
      "source": [
        "# Write a Python program that takes a number as input and checks whether it is positive, negative, or zero.\n",
        "num=float(input(\"enter a number:\"))\n",
        "if num>0:\n",
        "  print(\"positive number\")\n",
        "elif num == 0:\n",
        "      print(\"zero\")\n",
        "else:\n",
        "      print(\"negative number\")"
      ]
    },
    {
      "cell_type": "code",
      "execution_count": null,
      "id": "4dc6d14b-6d22-4348-859a-2a03f9be65f7",
      "metadata": {
        "id": "4dc6d14b-6d22-4348-859a-2a03f9be65f7",
        "outputId": "4a65de87-ccfe-4094-8bf4-f50ab3cd58ec",
        "colab": {
          "base_uri": "https://localhost:8080/"
        }
      },
      "outputs": [
        {
          "output_type": "stream",
          "name": "stdout",
          "text": [
            "14\n"
          ]
        }
      ],
      "source": [
        "# Write a Python program to find the maximum of three numbers. (User input for the numbers)\n",
        "def maximum(a, b, c):\n",
        "\n",
        "    if (a >= b) and (a >= c):\n",
        "        largest = a\n",
        "\n",
        "    elif (b >= a) and (b >= c):\n",
        "        largest = b\n",
        "    else:\n",
        "        largest = c\n",
        "\n",
        "    return largest\n",
        "\n",
        "\n",
        "# Driven code\n",
        "a = 10\n",
        "b = 14\n",
        "c = 12\n",
        "print(maximum(a, b, c))"
      ]
    },
    {
      "cell_type": "code",
      "execution_count": null,
      "id": "3f6d1f45-eb68-4142-89d6-510046f21879",
      "metadata": {
        "id": "3f6d1f45-eb68-4142-89d6-510046f21879",
        "outputId": "5044d517-d907-49c0-deee-440bac4a70ad",
        "colab": {
          "base_uri": "https://localhost:8080/"
        }
      },
      "outputs": [
        {
          "output_type": "stream",
          "name": "stdout",
          "text": [
            "enter the year to be checked:2004\n",
            "the year is a leap year\n"
          ]
        }
      ],
      "source": [
        "# Write a Python program to check if a year is a leap year. (User input for the year)\n",
        "year=int(input(\"enter the year to be checked:\"))\n",
        "if(year%4==0 and year%100!=0 or year%400==0):\n",
        "   print(\"the year is a leap year\")\n",
        "else:\n",
        "   print(\"the year isnt a leap year\")"
      ]
    },
    {
      "cell_type": "code",
      "execution_count": null,
      "id": "b6a07105-6fa5-4f70-b64b-ebd66afc3c2b",
      "metadata": {
        "id": "b6a07105-6fa5-4f70-b64b-ebd66afc3c2b",
        "outputId": "b66189cd-1fb1-4a5c-e6b5-bcb866c3ad71",
        "colab": {
          "base_uri": "https://localhost:8080/"
        }
      },
      "outputs": [
        {
          "output_type": "stream",
          "name": "stdout",
          "text": [
            "15\n",
            "divisible by 3 and 5\n"
          ]
        }
      ],
      "source": [
        "# Write a Python program to check if a number is divisible by both 3 and 5. (User input for the number)\n",
        "num = int(input())\n",
        "if num % 3 ==0 and num%5==0:\n",
        "  print(\"divisible by 3 and 5\")\n",
        "else:\n",
        "  print(\"Not divisible by 3 and 5\")"
      ]
    },
    {
      "cell_type": "code",
      "execution_count": null,
      "id": "d10c9005-b85d-42f9-81d0-65d149415888",
      "metadata": {
        "id": "d10c9005-b85d-42f9-81d0-65d149415888",
        "outputId": "6983610e-39d2-44b1-df64-f3f3994584eb",
        "colab": {
          "base_uri": "https://localhost:8080/"
        }
      },
      "outputs": [
        {
          "output_type": "stream",
          "name": "stdout",
          "text": [
            "Yes\n"
          ]
        }
      ],
      "source": [
        "# Write a Python program to check if a string is a palindrome. (User input for the string)\n",
        "def isPalindrome(s):\n",
        "    return s == s[::-1]\n",
        "\n",
        "\n",
        "# Driver code\n",
        "s = \"malayalam\"\n",
        "ans = isPalindrome(s)\n",
        "if ans:\n",
        "    print(\"Yes\")\n",
        "else:\n",
        "    print(\"No\")"
      ]
    },
    {
      "cell_type": "code",
      "execution_count": null,
      "id": "82d76cdf-efc6-45c6-ab09-9d1f17b3d857",
      "metadata": {
        "id": "82d76cdf-efc6-45c6-ab09-9d1f17b3d857",
        "outputId": "6f6b7b84-81d8-4b42-abb0-aa70df99fde1",
        "colab": {
          "base_uri": "https://localhost:8080/"
        }
      },
      "outputs": [
        {
          "output_type": "stream",
          "name": "stdout",
          "text": [
            "1\n",
            "2\n",
            "3\n",
            "4\n",
            "5\n",
            "6\n",
            "7\n",
            "8\n",
            "9\n",
            "10\n"
          ]
        }
      ],
      "source": [
        "# Write a Python program to print numbers from 1 to 10 using a for loop.\n",
        "for i in range(1,11):\n",
        "  print(i)\n"
      ]
    },
    {
      "cell_type": "code",
      "execution_count": null,
      "id": "d09e8994-e984-4c12-ab1e-1bfc6938a389",
      "metadata": {
        "id": "d09e8994-e984-4c12-ab1e-1bfc6938a389",
        "outputId": "2909d85b-893d-457b-bffc-0e0565eee870",
        "colab": {
          "base_uri": "https://localhost:8080/"
        }
      },
      "outputs": [
        {
          "output_type": "stream",
          "name": "stdout",
          "text": [
            "0\n",
            "2\n",
            "4\n",
            "6\n",
            "8\n",
            "10\n",
            "12\n",
            "14\n",
            "16\n",
            "18\n",
            "20\n"
          ]
        }
      ],
      "source": [
        "# Write a Python program to print all even numbers from 1 to 20 using a while loop.\n",
        "i=0\n",
        "while i<=20:\n",
        "   print(i)\n",
        "   i+=2"
      ]
    },
    {
      "cell_type": "code",
      "execution_count": null,
      "id": "c09ca878-167e-49ca-97f0-247a43c9b472",
      "metadata": {
        "id": "c09ca878-167e-49ca-97f0-247a43c9b472",
        "outputId": "60b3e614-3c97-4541-f47b-85452423282e",
        "colab": {
          "base_uri": "https://localhost:8080/"
        }
      },
      "outputs": [
        {
          "output_type": "stream",
          "name": "stdout",
          "text": [
            "Enter the number of which the user wants to print the multiplication table: 5\n",
            "The Multiplication Table of:  5\n",
            "5 x 1 = 5\n",
            "5 x 2 = 10\n",
            "5 x 3 = 15\n",
            "5 x 4 = 20\n",
            "5 x 5 = 25\n",
            "5 x 6 = 30\n",
            "5 x 7 = 35\n",
            "5 x 8 = 40\n",
            "5 x 9 = 45\n",
            "5 x 10 = 50\n"
          ]
        }
      ],
      "source": [
        "# Write a Python program to print the multiplication table of a given number using a for loop. (User input for the number)\n",
        "number = int(input (\"Enter the number of which the user wants to print the multiplication table: \"))\n",
        "print (\"The Multiplication Table of: \", number)\n",
        "for count in range(1, 11):\n",
        "   print (number, 'x', count, '=', number * count)"
      ]
    },
    {
      "cell_type": "code",
      "execution_count": null,
      "id": "b72118ab-e62d-4af9-bcec-e1cc6af31b25",
      "metadata": {
        "id": "b72118ab-e62d-4af9-bcec-e1cc6af31b25",
        "outputId": "9044437d-02f4-4be3-c508-e9f84f126923",
        "colab": {
          "base_uri": "https://localhost:8080/"
        }
      },
      "outputs": [
        {
          "output_type": "stream",
          "name": "stdout",
          "text": [
            "Enter a number: 8\n",
            "1\n",
            "2\n",
            "3\n",
            "4\n",
            "5\n",
            "6\n",
            "7\n"
          ]
        }
      ],
      "source": [
        "# Write a Python program to calculate the sum of all numbers from 1 to n using a while loop. (User input for n)\n",
        "n = int(input(\"Enter a number: \"))\n",
        "i = 1\n",
        "while i<n:\n",
        "    print(i)\n",
        "    i = i + 1"
      ]
    },
    {
      "cell_type": "code",
      "execution_count": null,
      "id": "ae93621f-11a2-40b7-97bc-3002f03ac36a",
      "metadata": {
        "id": "ae93621f-11a2-40b7-97bc-3002f03ac36a",
        "outputId": "28b3c85e-b242-4ac1-9fb2-2f6c6c2bb599",
        "colab": {
          "base_uri": "https://localhost:8080/"
        }
      },
      "outputs": [
        {
          "output_type": "stream",
          "name": "stdout",
          "text": [
            "Enter any number: 4\n",
            "Factorial is 24\n"
          ]
        }
      ],
      "source": [
        "# Write a Python program to calculate the factorial of a number using a while loop. (User input for the number)\n",
        "n = int(input(\"Enter any number: \"))\n",
        "f = 1\n",
        "while n >= 1:\n",
        "    f *= n\n",
        "    n -= 1\n",
        "print(\"Factorial is\", f)"
      ]
    },
    {
      "cell_type": "code",
      "execution_count": null,
      "id": "68467ccc-d696-4ef1-84c4-164c9d87f755",
      "metadata": {
        "id": "68467ccc-d696-4ef1-84c4-164c9d87f755",
        "outputId": "dc0a2512-9c32-486e-eb2d-12aaf56fb6f9",
        "colab": {
          "base_uri": "https://localhost:8080/"
        }
      },
      "outputs": [
        {
          "output_type": "stream",
          "name": "stdout",
          "text": [
            "Enter the number you want to print: 10\n",
            "0 1 1 2 3 5 8 13 21 34 "
          ]
        }
      ],
      "source": [
        "# Write a Python program to print the Fibonacci sequence up to n terms. (User input for n)\n",
        "n = int(input (\"Enter the number you want to print: \"))\n",
        "a = 0\n",
        "b = 1\n",
        "for i in range(0,n):\n",
        "    print(a, end = \" \")\n",
        "    c = a+b\n",
        "    a = b\n",
        "    b = c\n",
        "\n"
      ]
    },
    {
      "cell_type": "code",
      "execution_count": null,
      "id": "5bebd1f3-2606-4102-aa55-01cb1650f632",
      "metadata": {
        "id": "5bebd1f3-2606-4102-aa55-01cb1650f632",
        "outputId": "707c0da9-906b-4eff-8bc8-07de9dfc80ba",
        "colab": {
          "base_uri": "https://localhost:8080/"
        }
      },
      "outputs": [
        {
          "output_type": "stream",
          "name": "stdout",
          "text": [
            "1\n",
            "2\n",
            "3\n",
            "5\n",
            "7\n",
            "11\n",
            "13\n",
            "17\n",
            "19\n",
            "23\n",
            "29\n",
            "31\n",
            "37\n",
            "41\n",
            "43\n",
            "47\n",
            "53\n",
            "59\n",
            "61\n",
            "67\n",
            "71\n",
            "73\n",
            "79\n",
            "83\n",
            "89\n",
            "97\n"
          ]
        }
      ],
      "source": [
        "# Write a Python program to find all the prime numbers from 1 to 100.\n",
        "num1 = 1\n",
        "num2 = 100\n",
        "for x in range(num1,num2):\n",
        "    prime = True\n",
        "    for i in range(2,x):\n",
        "        if (x%i==0):\n",
        "            prime = False\n",
        "    if prime == True:\n",
        "       print(x)\n"
      ]
    },
    {
      "cell_type": "code",
      "execution_count": null,
      "id": "0a3f894e-52ba-4c0b-9158-a70f31f4fd49",
      "metadata": {
        "id": "0a3f894e-52ba-4c0b-9158-a70f31f4fd49",
        "outputId": "82f9a074-49f7-44fc-9104-fa00d166c60e",
        "colab": {
          "base_uri": "https://localhost:8080/"
        }
      },
      "outputs": [
        {
          "output_type": "stream",
          "name": "stdout",
          "text": [
            "The num has value: 1\n",
            "The num has value: 2\n",
            "The num has value: 3\n",
            "The num has value: 4\n",
            "The num has value: 5\n",
            "The num has value: 6\n",
            "The num has value: 7\n",
            "Out of loop\n"
          ]
        }
      ],
      "source": [
        "# Write a Python program that breaks out of a loop when a specific condition is met (e.g., when a number greater than 50 is found).\n",
        "num = 0\n",
        "for i in range(10):\n",
        "    num += 1\n",
        "    if num == 8:\n",
        "        break\n",
        "    print(\"The num has value:\", num)\n",
        "print(\"Out of loop\")"
      ]
    },
    {
      "cell_type": "code",
      "execution_count": null,
      "id": "499b91d0-1f1b-494f-af2b-8cc3a06d90ed",
      "metadata": {
        "id": "499b91d0-1f1b-494f-af2b-8cc3a06d90ed"
      },
      "outputs": [],
      "source": [
        "# Write a Python program to skip even numbers while printing numbers from 1 to 20 using a for loop.\n",
        "for x in range(1,20):\n",
        "      if x % 3 == 0:\n",
        "         continue\n",
        "         print(x)"
      ]
    },
    {
      "cell_type": "code",
      "execution_count": null,
      "id": "f8ffed70-dfde-4262-a2fd-0d35d69b5fb1",
      "metadata": {
        "id": "f8ffed70-dfde-4262-a2fd-0d35d69b5fb1",
        "outputId": "625e8625-ed35-4de9-b7ef-bf95db8d87d2",
        "colab": {
          "base_uri": "https://localhost:8080/"
        }
      },
      "outputs": [
        {
          "output_type": "stream",
          "name": "stdout",
          "text": [
            "2\n"
          ]
        }
      ],
      "source": [
        "# Write a Python program to count how many times a particular character appears in a string using a for loop. (User input for string and character)\n",
        "s = \"banana\"\n",
        "target = 'n'\n",
        "count = 0\n",
        "for c in s:\n",
        "    if c == target:\n",
        "        count += 1\n",
        "\n",
        "print(count)"
      ]
    },
    {
      "cell_type": "code",
      "execution_count": null,
      "id": "01f976ed-4dcd-4842-ae84-d3b5cc42d011",
      "metadata": {
        "id": "01f976ed-4dcd-4842-ae84-d3b5cc42d011",
        "outputId": "1060aa7e-992f-428c-a99a-e6289ee4d093",
        "colab": {
          "base_uri": "https://localhost:8080/"
        }
      },
      "outputs": [
        {
          "output_type": "stream",
          "name": "stdout",
          "text": [
            "Enter Number: 11\n",
            "2\n"
          ]
        }
      ],
      "source": [
        "# Write a Python program to calculate the sum of digits of a number. (User input for the number)\n",
        "num = input(\"Enter Number: \")\n",
        "sum = 0\n",
        "for i in num:\n",
        "    sum = sum + int(i)\n",
        "print(sum)\n"
      ]
    },
    {
      "cell_type": "markdown",
      "id": "fe644fae-f262-48dd-b7ff-08eb747d297e",
      "metadata": {
        "id": "fe644fae-f262-48dd-b7ff-08eb747d297e"
      },
      "source": [
        "## Data Structures (Lists, Tuples, Sets, Dictionaries)"
      ]
    },
    {
      "cell_type": "code",
      "execution_count": null,
      "id": "a0333c26-8e19-4c71-9722-d32cf8625ef6",
      "metadata": {
        "id": "a0333c26-8e19-4c71-9722-d32cf8625ef6",
        "outputId": "c42ee60f-c79c-4c26-b630-892f0cf23aff",
        "colab": {
          "base_uri": "https://localhost:8080/"
        }
      },
      "outputs": [
        {
          "output_type": "stream",
          "name": "stdout",
          "text": [
            "The sum of the list is: 15\n"
          ]
        }
      ],
      "source": [
        "# Write a Python program to create a list of integers and print the sum of the elements\n",
        "\n",
        "def calculate_sum(numbers):\n",
        "    return sum(numbers)\n",
        "    numbers_list = [1, 2, 3, 4, 5]\n",
        "result = calculate_sum(numbers_list)\n",
        "print(f\"The sum of the list is: {result}\")"
      ]
    },
    {
      "cell_type": "code",
      "execution_count": null,
      "id": "5a23046d-80b0-4f8d-a02f-4e3d833c0443",
      "metadata": {
        "id": "5a23046d-80b0-4f8d-a02f-4e3d833c0443",
        "outputId": "6e677bf0-1b16-47fa-e47d-cc78fb319ba4",
        "colab": {
          "base_uri": "https://localhost:8080/"
        }
      },
      "outputs": [
        {
          "output_type": "stream",
          "name": "stdout",
          "text": [
            "20\n"
          ]
        }
      ],
      "source": [
        "# Write a Python program to find the largest element in a list.\n",
        "a=(5,10,15,20)\n",
        "largest=max(a)\n",
        "print(largest)\n"
      ]
    },
    {
      "cell_type": "code",
      "execution_count": null,
      "id": "9939c2d2-90fd-4e80-81bc-227c72e60e37",
      "metadata": {
        "id": "9939c2d2-90fd-4e80-81bc-227c72e60e37",
        "outputId": "b54182de-fe0a-4058-99c0-5f89529ebdad",
        "colab": {
          "base_uri": "https://localhost:8080/"
        }
      },
      "outputs": [
        {
          "output_type": "stream",
          "name": "stdout",
          "text": [
            "[6, 5, 4, 3, 2, 1]\n"
          ]
        }
      ],
      "source": [
        "# Write a Python program to reverse a list.\n",
        "a=[1,2,3,4,5,6]\n",
        "a.reverse()\n",
        "print(a)"
      ]
    },
    {
      "cell_type": "code",
      "execution_count": null,
      "id": "aa287db8-057b-48d4-a6d8-18cc53eb7178",
      "metadata": {
        "id": "aa287db8-057b-48d4-a6d8-18cc53eb7178",
        "outputId": "8f6739ac-558b-439a-c397-8a58e1dcc7a3",
        "colab": {
          "base_uri": "https://localhost:8080/"
        }
      },
      "outputs": [
        {
          "output_type": "stream",
          "name": "stdout",
          "text": [
            "Original list:\n",
            "[10, 20, 10, 30, 10, 40, 10, 50]\n",
            "list after removing elements:\n",
            "[20, 30, 40, 50]\n"
          ]
        }
      ],
      "source": [
        "# Write a Python program to remove all occurrences of a specific element from a list.\n",
        "list = [10, 20, 10, 30, 10, 40, 10, 50]\n",
        "n = 10\n",
        "print (\"Original list:\")\n",
        "print (list)\n",
        "for x in list:\n",
        "    if x == n:\n",
        "        list.remove(x)\n",
        "print (\"list after removing elements:\")\n",
        "print (list)\n"
      ]
    },
    {
      "cell_type": "code",
      "execution_count": null,
      "id": "da9ba926-0ab5-46e9-b66d-128088c3225b",
      "metadata": {
        "id": "da9ba926-0ab5-46e9-b66d-128088c3225b",
        "outputId": "e8efbb0a-d9aa-4a8b-82dd-4ed31a2d1919",
        "colab": {
          "base_uri": "https://localhost:8080/"
        }
      },
      "outputs": [
        {
          "output_type": "stream",
          "name": "stdout",
          "text": [
            "The index of dog: 0\n"
          ]
        }
      ],
      "source": [
        "# Write a Python program to find the index of an element in a list.\n",
        "animals = ['dog', 'cat', 'lion']\n",
        "index = animals.index('dog')\n",
        "print('The index of dog:', index)\n",
        "\n"
      ]
    },
    {
      "cell_type": "code",
      "execution_count": null,
      "id": "9601b6e4-cb90-4e1f-87b4-38ed37076e0d",
      "metadata": {
        "id": "9601b6e4-cb90-4e1f-87b4-38ed37076e0d",
        "outputId": "8f6fe9b7-d4eb-4fe1-bc6e-8a6628f1fc91",
        "colab": {
          "base_uri": "https://localhost:8080/"
        }
      },
      "outputs": [
        {
          "output_type": "stream",
          "name": "stdout",
          "text": [
            "Element exists in the list\n"
          ]
        }
      ],
      "source": [
        "# Write a Python program to find if a specific element exists in a list\n",
        "a = [10, 20, 30, 40, 50]\n",
        "if 30 in a:\n",
        "    print(\"Element exists in the list\")\n",
        "else:\n",
        "    print(\"Element does not exist\")\n"
      ]
    },
    {
      "cell_type": "code",
      "execution_count": 1,
      "id": "9d8e7311-81de-4da2-826c-c4dcad28ed9f",
      "metadata": {
        "id": "9d8e7311-81de-4da2-826c-c4dcad28ed9f",
        "outputId": "d04afddc-e813-4087-c770-6bc01e59bf38",
        "colab": {
          "base_uri": "https://localhost:8080/"
        }
      },
      "outputs": [
        {
          "output_type": "stream",
          "name": "stdout",
          "text": [
            "[2, 4, 10, 20, 5]\n"
          ]
        }
      ],
      "source": [
        "# Write a Python program to remove duplicates from a list.\n",
        "def Remove(duplicate):\n",
        "    final_list = []\n",
        "    for num in duplicate:\n",
        "        if num not in final_list:\n",
        "            final_list.append(num)\n",
        "    return final_list\n",
        "duplicate = [2, 4, 10, 20, 5, 2, 20, 4]\n",
        "print(Remove(duplicate))"
      ]
    },
    {
      "cell_type": "code",
      "execution_count": 2,
      "id": "09e5121b-97b3-42e4-8025-f28f3470681b",
      "metadata": {
        "id": "09e5121b-97b3-42e4-8025-f28f3470681b",
        "outputId": "2dc6e7b5-5d84-4970-c86b-10404cfd7745",
        "colab": {
          "base_uri": "https://localhost:8080/"
        }
      },
      "outputs": [
        {
          "output_type": "stream",
          "name": "stdout",
          "text": [
            "3\n"
          ]
        }
      ],
      "source": [
        "# Write a Python program to count the occurrences of an element in a list.\n",
        "freq = ['a', 1, 'a', 4, 3, 2, 'a'].count('a')\n",
        "print(freq)\n"
      ]
    },
    {
      "cell_type": "code",
      "execution_count": 3,
      "id": "b774b741-e9a6-45db-8f00-e6d9b734d03a",
      "metadata": {
        "id": "b774b741-e9a6-45db-8f00-e6d9b734d03a",
        "outputId": "2d472d67-f1e1-479f-f81c-cf4aed309434",
        "colab": {
          "base_uri": "https://localhost:8080/"
        }
      },
      "outputs": [
        {
          "output_type": "stream",
          "name": "stdout",
          "text": [
            "[2, 4, 6, 8, 120, 124]\n"
          ]
        }
      ],
      "source": [
        "# Write a Python program to get the number of even numbers in a list.\n",
        "def list_even(x):\n",
        "    even = []\n",
        "    for n in x:\n",
        "        if not n %2:\n",
        "            even.append(n)\n",
        "    return even\n",
        "numbers = [2,3,4,6,8,101,103,111,120,124]\n",
        "print(list_even(numbers))"
      ]
    },
    {
      "cell_type": "code",
      "execution_count": 4,
      "id": "5ce4fd2b-ab16-4b40-9ac2-d19c244d8d96",
      "metadata": {
        "id": "5ce4fd2b-ab16-4b40-9ac2-d19c244d8d96",
        "outputId": "10fda6ac-1c07-472e-c460-e0391d0c8cb3",
        "colab": {
          "base_uri": "https://localhost:8080/"
        }
      },
      "outputs": [
        {
          "output_type": "stream",
          "name": "stdout",
          "text": [
            "Total Items: 4\n"
          ]
        }
      ],
      "source": [
        "# Write a Python program to create a tuple and print it.\n",
        "cars = ('BMW', 'Tesla', 'Ford', 'Toyota')\n",
        "print('Total Items:', len(cars))\n"
      ]
    },
    {
      "cell_type": "code",
      "execution_count": 5,
      "id": "5c04f880-6e96-4ef4-9f4b-df21aae76ff1",
      "metadata": {
        "id": "5c04f880-6e96-4ef4-9f4b-df21aae76ff1",
        "outputId": "2ee170a6-84aa-486c-a60e-98de05921e3b",
        "colab": {
          "base_uri": "https://localhost:8080/"
        }
      },
      "outputs": [
        {
          "output_type": "stream",
          "name": "stdout",
          "text": [
            "['a', 'mm', 'ppp', 'bb', 'cc']\n",
            "<class 'list'>\n"
          ]
        }
      ],
      "source": [
        "# Write a Python program to convert a tuple to a list and vice versa.\n",
        "my_tuple = (\"a\", \"mm\", \"ppp\", \"bb\", \"cc\")\n",
        "\n",
        "my_list = list(my_tuple)\n",
        "\n",
        "print(my_list)\n",
        "print(type(my_list))"
      ]
    },
    {
      "cell_type": "code",
      "execution_count": 6,
      "id": "d5192acc-27f3-456e-9c72-3b276a587bf5",
      "metadata": {
        "id": "d5192acc-27f3-456e-9c72-3b276a587bf5",
        "outputId": "658d7521-e3f8-4cca-9104-cb382443fdbe",
        "colab": {
          "base_uri": "https://localhost:8080/"
        }
      },
      "outputs": [
        {
          "output_type": "stream",
          "name": "stdout",
          "text": [
            "Minimum value in the input: [1 1]\n",
            "Maximum value in the input: [4 4]\n"
          ]
        }
      ],
      "source": [
        "# Write a Python program to find the maximum and minimum values in a tuple.\n",
        "import numpy as np\n",
        "list1 = [(1,1), (3, 3), (2,2), (4,4)]\n",
        "num = np.array(list1)\n",
        "minimum_list = np.min(num, axis=0)\n",
        "maximum_list = np.max(num, axis=0)\n",
        "print(\"Minimum value in the input:\", minimum_list)\n",
        "print(\"Maximum value in the input:\", maximum_list)"
      ]
    },
    {
      "cell_type": "code",
      "execution_count": 9,
      "id": "43f0a340-9407-4302-af7e-4e63db578bbf",
      "metadata": {
        "id": "43f0a340-9407-4302-af7e-4e63db578bbf",
        "outputId": "8c5b7bcb-551f-45a0-c08e-49385449cdfc",
        "colab": {
          "base_uri": "https://localhost:8080/",
          "height": 228
        }
      },
      "outputs": [
        {
          "output_type": "stream",
          "name": "stdout",
          "text": [
            "(4, 8, 3)\n",
            "15\n"
          ]
        },
        {
          "output_type": "error",
          "ename": "ValueError",
          "evalue": "not enough values to unpack (expected 4, got 3)",
          "traceback": [
            "\u001b[0;31m---------------------------------------------------------------------------\u001b[0m",
            "\u001b[0;31mValueError\u001b[0m                                Traceback (most recent call last)",
            "\u001b[0;32m<ipython-input-9-29b3b26e0214>\u001b[0m in \u001b[0;36m<cell line: 6>\u001b[0;34m()\u001b[0m\n\u001b[1;32m      4\u001b[0m \u001b[0mn1\u001b[0m\u001b[0;34m,\u001b[0m \u001b[0mn2\u001b[0m\u001b[0;34m,\u001b[0m \u001b[0mn3\u001b[0m \u001b[0;34m=\u001b[0m \u001b[0ma\u001b[0m\u001b[0;34m\u001b[0m\u001b[0;34m\u001b[0m\u001b[0m\n\u001b[1;32m      5\u001b[0m \u001b[0mprint\u001b[0m\u001b[0;34m(\u001b[0m\u001b[0mn1\u001b[0m \u001b[0;34m+\u001b[0m \u001b[0mn2\u001b[0m \u001b[0;34m+\u001b[0m \u001b[0mn3\u001b[0m\u001b[0;34m)\u001b[0m\u001b[0;34m\u001b[0m\u001b[0;34m\u001b[0m\u001b[0m\n\u001b[0;32m----> 6\u001b[0;31m \u001b[0mn1\u001b[0m\u001b[0;34m,\u001b[0m \u001b[0mn2\u001b[0m\u001b[0;34m,\u001b[0m \u001b[0mn3\u001b[0m\u001b[0;34m,\u001b[0m \u001b[0mn4\u001b[0m\u001b[0;34m=\u001b[0m \u001b[0ma\u001b[0m\u001b[0;34m\u001b[0m\u001b[0;34m\u001b[0m\u001b[0m\n\u001b[0m\u001b[1;32m      7\u001b[0m \u001b[0;34m\u001b[0m\u001b[0m\n",
            "\u001b[0;31mValueError\u001b[0m: not enough values to unpack (expected 4, got 3)"
          ]
        }
      ],
      "source": [
        "# Write a Python program to unpack a tuple into variables.\n",
        "a = 4, 8, 3\n",
        "print(a)\n",
        "n1, n2, n3 = a\n",
        "print(n1 + n2 + n3)\n",
        "n1, n2, n3, n4= a\n",
        "\n"
      ]
    },
    {
      "cell_type": "code",
      "execution_count": 10,
      "id": "46e96e29-2157-4b9f-bb24-0bd973eada9f",
      "metadata": {
        "id": "46e96e29-2157-4b9f-bb24-0bd973eada9f",
        "outputId": "dc74c06c-643a-4782-eb36-4f1e7e92ff12",
        "colab": {
          "base_uri": "https://localhost:8080/"
        }
      },
      "outputs": [
        {
          "output_type": "stream",
          "name": "stdout",
          "text": [
            "Letters are: {'s'}\n",
            "Letters are: {'e', 's'}\n",
            "Letters are: {'e', 's'}\n"
          ]
        }
      ],
      "source": [
        "# Write a Python program to add an element to a set and check if an element exists in the set.\n",
        "GEEK = set()\n",
        "GEEK.add('s')\n",
        "print(\"Letters are:\", GEEK)\n",
        "GEEK.add('e')\n",
        "print(\"Letters are:\", GEEK)\n",
        "GEEK.add('s')\n",
        "print(\"Letters are:\", GEEK)\n"
      ]
    },
    {
      "cell_type": "code",
      "execution_count": 11,
      "id": "d81a803b-fd80-403e-9ae3-680ef44a3d86",
      "metadata": {
        "id": "d81a803b-fd80-403e-9ae3-680ef44a3d86",
        "outputId": "eb7a8d35-c897-4bd9-fd21-ba0f1bcaf6d7",
        "colab": {
          "base_uri": "https://localhost:8080/"
        }
      },
      "outputs": [
        {
          "output_type": "stream",
          "name": "stdout",
          "text": [
            "{'Germany': 'Berlin', 'Canada': 'Ottawa', 'England': 'London'}\n"
          ]
        }
      ],
      "source": [
        "# Write a Python program to create a dictionary with keys and values and print it.\n",
        "# creating a dictionary\n",
        "country_capitals = {\n",
        "  \"Germany\": \"Berlin\",\n",
        "  \"Canada\": \"Ottawa\",\n",
        "  \"England\": \"London\"\n",
        "}\n",
        "\n",
        "# printing the dictionary\n",
        "print(country_capitals)"
      ]
    },
    {
      "cell_type": "code",
      "execution_count": 12,
      "id": "7432174b-fe75-4371-b23a-e2c5d62edb15",
      "metadata": {
        "id": "7432174b-fe75-4371-b23a-e2c5d62edb15",
        "outputId": "1b8998e3-ecb1-47a3-d313-20d2533bd637",
        "colab": {
          "base_uri": "https://localhost:8080/"
        }
      },
      "outputs": [
        {
          "output_type": "stream",
          "name": "stdout",
          "text": [
            "Asia\n"
          ]
        }
      ],
      "source": [
        "# Write a Python program to access a dictionary value using a key.\n",
        "dict = {\n",
        "\"country\" : \"India\",\n",
        "\"continent\" : \"Asia\",\n",
        "\"Other_name\" : \"Bharat\"\n",
        "}\n",
        "x = dict[\"continent\"]\n",
        "print(x)\n"
      ]
    },
    {
      "cell_type": "code",
      "execution_count": 13,
      "id": "000b3260-d91f-41f2-9729-4b0124f2c4d2",
      "metadata": {
        "id": "000b3260-d91f-41f2-9729-4b0124f2c4d2",
        "outputId": "f54378de-aecc-49bb-aeb4-b3c93ab98dc8",
        "colab": {
          "base_uri": "https://localhost:8080/"
        }
      },
      "outputs": [
        {
          "output_type": "stream",
          "name": "stdout",
          "text": [
            "True\n",
            "False\n"
          ]
        }
      ],
      "source": [
        "# Write a Python program to check if a key exists in a dictionary.\n",
        "d = {'a': 1, 'b': 2, 'c': 3}\n",
        "key = 'b'\n",
        "print(key in d)\n",
        "key = 'g'\n",
        "print(key in d)"
      ]
    },
    {
      "cell_type": "code",
      "execution_count": 14,
      "id": "c4b1a942-818e-42c1-b742-1fabe80fca6d",
      "metadata": {
        "id": "c4b1a942-818e-42c1-b742-1fabe80fca6d",
        "outputId": "aa559a6c-0d87-4722-cd5e-5fecb3f0a6d3",
        "colab": {
          "base_uri": "https://localhost:8080/"
        }
      },
      "outputs": [
        {
          "output_type": "stream",
          "name": "stdout",
          "text": [
            "{'x': 10, 'y': 8, 'a': 6, 'b': 4}\n"
          ]
        }
      ],
      "source": [
        "# Write a Python program to merge two dictionaries.\n",
        "d1 = {'x': 10, 'y': 8}\n",
        "d2 = {'a': 6, 'b': 4}\n",
        "d3 = d1 | d2\n",
        "print(d3)"
      ]
    },
    {
      "cell_type": "code",
      "execution_count": 16,
      "id": "a78f1070-3ff3-436a-8391-153f019f53cd",
      "metadata": {
        "id": "a78f1070-3ff3-436a-8391-153f019f53cd",
        "outputId": "108081c5-379d-4b2e-b85e-5a68af01542b",
        "colab": {
          "base_uri": "https://localhost:8080/"
        }
      },
      "outputs": [
        {
          "output_type": "stream",
          "name": "stdout",
          "text": [
            "{'a': 1, 'b': 2, 'c': 3, 'd': 4}\n",
            "{'b': 2, 'c': 3, 'd': 4}\n"
          ]
        }
      ],
      "source": [
        "# Write a Python program to remove a key from a dictionary.\n",
        "myDict = {'a': 1, 'b': 2, 'c': 3, 'd': 4}\n",
        "print(myDict)\n",
        "if 'a' in myDict:\n",
        "    del myDict['a']\n",
        "print(myDict)\n"
      ]
    },
    {
      "cell_type": "code",
      "execution_count": 18,
      "id": "fcba0267-8cc4-4e89-9e78-2d820916c177",
      "metadata": {
        "id": "fcba0267-8cc4-4e89-9e78-2d820916c177",
        "outputId": "7d06e1df-c6c7-4315-c2f0-d609ff564895",
        "colab": {
          "base_uri": "https://localhost:8080/"
        }
      },
      "outputs": [
        {
          "output_type": "stream",
          "name": "stdout",
          "text": [
            "Keys in Dictionary: [1, 2, 3, 4]\n"
          ]
        }
      ],
      "source": [
        "# Write a Python program to get the number of keys in a dictionary\n",
        "\n",
        "num = {1: 'One', 2: 'Two', 3: 'Three', 4: 'Four'}\n",
        "keys = num.keys()\n",
        "print('Keys in Dictionary:', [*keys])"
      ]
    },
    {
      "cell_type": "code",
      "execution_count": 19,
      "id": "d4c5fd77-9656-43e5-8fe2-be7dca23eb6d",
      "metadata": {
        "id": "d4c5fd77-9656-43e5-8fe2-be7dca23eb6d",
        "outputId": "dea7a520-4ad2-47c3-947b-6db88cf8926f",
        "colab": {
          "base_uri": "https://localhost:8080/"
        }
      },
      "outputs": [
        {
          "output_type": "stream",
          "name": "stdout",
          "text": [
            "Maximum : 89\n",
            "Minimum : 35\n"
          ]
        }
      ],
      "source": [
        "# Write a Python program to find the largest and smallest values in a dictionary.\n",
        "marks={\"m1\":78 , \"m2\":89 , \"m3\":64 , \"m4\":35 , \"m5\":71}\n",
        "v = marks.values()\n",
        "maxi = max(v)\n",
        "mini = min(v)\n",
        "print(\"Maximum :\",maxi)\n",
        "print(\"Minimum :\",mini)"
      ]
    },
    {
      "cell_type": "markdown",
      "id": "7830b8cc-9a90-45a2-8e4a-6f3c2b8b133b",
      "metadata": {
        "id": "7830b8cc-9a90-45a2-8e4a-6f3c2b8b133b"
      },
      "source": [
        "## Functions (User-Defined, Arguments, Keyword Arguments, Return Values)"
      ]
    },
    {
      "cell_type": "code",
      "execution_count": null,
      "id": "06a33fba-c6b1-4989-90f4-b647d1fe1627",
      "metadata": {
        "id": "06a33fba-c6b1-4989-90f4-b647d1fe1627"
      },
      "outputs": [],
      "source": [
        "# Write a Python function that returns the square of a number."
      ]
    },
    {
      "cell_type": "code",
      "execution_count": null,
      "id": "91d90a4a-7329-45db-893b-caed8450ba96",
      "metadata": {
        "id": "91d90a4a-7329-45db-893b-caed8450ba96"
      },
      "outputs": [],
      "source": [
        "# Write a Python function that accepts two parameters and returns their sum."
      ]
    },
    {
      "cell_type": "code",
      "execution_count": null,
      "id": "dec2f9a5-90c5-478b-890b-0a506ecf45d3",
      "metadata": {
        "id": "dec2f9a5-90c5-478b-890b-0a506ecf45d3"
      },
      "outputs": [],
      "source": [
        "# Write a Python function to check if a given number is prime."
      ]
    },
    {
      "cell_type": "code",
      "execution_count": null,
      "id": "56337441-68c3-45df-8733-a34cde0533a5",
      "metadata": {
        "id": "56337441-68c3-45df-8733-a34cde0533a5"
      },
      "outputs": [],
      "source": [
        "# Write a Python function to calculate the factorial of a number using recursion."
      ]
    },
    {
      "cell_type": "code",
      "execution_count": null,
      "id": "84a2d010-e7b2-409b-b1f4-99bf806bb77a",
      "metadata": {
        "id": "84a2d010-e7b2-409b-b1f4-99bf806bb77a"
      },
      "outputs": [],
      "source": [
        "# Write a Python function to calculate the power of a number using recursion."
      ]
    },
    {
      "cell_type": "code",
      "execution_count": null,
      "id": "ec44911e-7820-46cc-96a3-4ca443888837",
      "metadata": {
        "id": "ec44911e-7820-46cc-96a3-4ca443888837"
      },
      "outputs": [],
      "source": [
        "# Write a Python function to accept a list and return its length without using the built-in len() function."
      ]
    },
    {
      "cell_type": "code",
      "execution_count": null,
      "id": "fb4c08e1-34f3-487a-a1c6-77cd60fb4836",
      "metadata": {
        "id": "fb4c08e1-34f3-487a-a1c6-77cd60fb4836"
      },
      "outputs": [],
      "source": [
        "# Write a Python function that accepts both positional and keyword arguments and prints the sum of positional arguments."
      ]
    },
    {
      "cell_type": "code",
      "execution_count": null,
      "id": "f4ffc7a8-f579-461c-b507-4085a0477283",
      "metadata": {
        "id": "f4ffc7a8-f579-461c-b507-4085a0477283"
      },
      "outputs": [],
      "source": [
        "# Write a Python function to find the maximum of two numbers using keyword arguments."
      ]
    },
    {
      "cell_type": "code",
      "execution_count": null,
      "id": "0b00c4af-89e0-43e8-a991-1b684d2ce33f",
      "metadata": {
        "id": "0b00c4af-89e0-43e8-a991-1b684d2ce33f"
      },
      "outputs": [],
      "source": [
        "# Write a Python function that accepts a list of numbers and returns their product."
      ]
    },
    {
      "cell_type": "code",
      "execution_count": null,
      "id": "9cd11703-5b48-44fe-af4e-ea906a2762c9",
      "metadata": {
        "id": "9cd11703-5b48-44fe-af4e-ea906a2762c9"
      },
      "outputs": [],
      "source": [
        "# Write a Python function to check if a number is even or odd using the modulo operator."
      ]
    },
    {
      "cell_type": "code",
      "execution_count": null,
      "id": "afbf262e-daed-40a9-827f-82fa60979610",
      "metadata": {
        "id": "afbf262e-daed-40a9-827f-82fa60979610"
      },
      "outputs": [],
      "source": [
        "# Write a Python program to create a list of squares of numbers from 1 to 10 using list comprehension."
      ]
    },
    {
      "cell_type": "code",
      "execution_count": null,
      "id": "7fff76d8-9ba8-4006-9be6-6f7350092d1c",
      "metadata": {
        "id": "7fff76d8-9ba8-4006-9be6-6f7350092d1c"
      },
      "outputs": [],
      "source": [
        "# Write a Python program to filter out all even numbers from a list using list comprehension."
      ]
    },
    {
      "cell_type": "code",
      "execution_count": null,
      "id": "6ae9b8df-38f9-4fd7-bad1-aa7b07cc9271",
      "metadata": {
        "id": "6ae9b8df-38f9-4fd7-bad1-aa7b07cc9271"
      },
      "outputs": [],
      "source": [
        "# Write a Python program to create a list of strings that are longer than 4 characters from a given list of words using list comprehension."
      ]
    },
    {
      "cell_type": "code",
      "execution_count": null,
      "id": "f492c7d4-6ad3-48ab-9b61-232be02aecee",
      "metadata": {
        "id": "f492c7d4-6ad3-48ab-9b61-232be02aecee"
      },
      "outputs": [],
      "source": [
        "# Write a Python program to create a list of all uppercase letters in a string using list comprehension."
      ]
    },
    {
      "cell_type": "code",
      "execution_count": null,
      "id": "929a7f74-1762-4a2a-be23-bacf67ff4d8b",
      "metadata": {
        "id": "929a7f74-1762-4a2a-be23-bacf67ff4d8b"
      },
      "outputs": [],
      "source": [
        "# Write a Python program to generate the first n Fibonacci numbers using list comprehension."
      ]
    },
    {
      "cell_type": "code",
      "execution_count": null,
      "id": "47188bbc-cf62-47bb-a14e-0582c8b5cdd9",
      "metadata": {
        "id": "47188bbc-cf62-47bb-a14e-0582c8b5cdd9"
      },
      "outputs": [],
      "source": [
        "# Write a Python program to create a dictionary where keys are numbers and values are their squares using dictionary comprehension."
      ]
    },
    {
      "cell_type": "code",
      "execution_count": null,
      "id": "3c4637d3-aa85-4b4c-acf3-953c10818bcb",
      "metadata": {
        "id": "3c4637d3-aa85-4b4c-acf3-953c10818bcb"
      },
      "outputs": [],
      "source": [
        "# Write a Python program to create a dictionary from two lists (one for keys and one for values) using dictionary comprehension."
      ]
    },
    {
      "cell_type": "code",
      "execution_count": null,
      "id": "de817d6f-96e7-4346-839e-1ef0df539b6b",
      "metadata": {
        "id": "de817d6f-96e7-4346-839e-1ef0df539b6b"
      },
      "outputs": [],
      "source": [
        "# Write a Python program to create a dictionary of numbers from 1 to 5 and their cubes using dictionary comprehension."
      ]
    },
    {
      "cell_type": "code",
      "execution_count": null,
      "id": "33695301-057e-49a6-9f80-a2f4e3af60ed",
      "metadata": {
        "id": "33695301-057e-49a6-9f80-a2f4e3af60ed"
      },
      "outputs": [],
      "source": [
        "# Write a Python program to square each element of a list using the map() function."
      ]
    },
    {
      "cell_type": "code",
      "execution_count": null,
      "id": "6d4d17f3-c40f-4944-8656-c6416b600361",
      "metadata": {
        "id": "6d4d17f3-c40f-4944-8656-c6416b600361"
      },
      "outputs": [],
      "source": [
        "# Write a Python program to filter all even numbers from a list using the filter() function."
      ]
    },
    {
      "cell_type": "code",
      "execution_count": null,
      "id": "6634ba1f-9f81-475e-b7c4-422d102afb75",
      "metadata": {
        "id": "6634ba1f-9f81-475e-b7c4-422d102afb75"
      },
      "outputs": [],
      "source": [
        "# Write a Python program to use a lambda function to check if a number is divisible by both 3 and 5."
      ]
    },
    {
      "cell_type": "code",
      "execution_count": null,
      "id": "0aac8430-5d77-439d-9a99-9598fadf989c",
      "metadata": {
        "id": "0aac8430-5d77-439d-9a99-9598fadf989c"
      },
      "outputs": [],
      "source": [
        "# Write a Python program to multiply all numbers in a list by 2 using a lambda function inside map()."
      ]
    },
    {
      "cell_type": "code",
      "execution_count": null,
      "id": "e4cd5ba8-c6ec-4f0d-8787-bf0a4b7a2e22",
      "metadata": {
        "id": "e4cd5ba8-c6ec-4f0d-8787-bf0a4b7a2e22"
      },
      "outputs": [],
      "source": [
        "# Write a Python program to remove all occurrences of a specific element from a list."
      ]
    },
    {
      "cell_type": "markdown",
      "id": "caba77c7-93db-4893-8f48-c7365ed5c585",
      "metadata": {
        "id": "caba77c7-93db-4893-8f48-c7365ed5c585"
      },
      "source": [
        "**Note:**\n",
        "- All assignments must follow [PEP 8 – Style Guide for Python Code](https://peps.python.org/pep-0008/) guidelines.\n",
        "- You can add multiple solutions for each question. Create a new code cell next to the question and add it. Shortcut for creating cell : `Alt + Enter`"
      ]
    }
  ],
  "metadata": {
    "kernelspec": {
      "display_name": "Python 3 (ipykernel)",
      "language": "python",
      "name": "python3"
    },
    "language_info": {
      "codemirror_mode": {
        "name": "ipython",
        "version": 3
      },
      "file_extension": ".py",
      "mimetype": "text/x-python",
      "name": "python",
      "nbconvert_exporter": "python",
      "pygments_lexer": "ipython3",
      "version": "3.12.6"
    },
    "colab": {
      "provenance": [],
      "include_colab_link": true
    }
  },
  "nbformat": 4,
  "nbformat_minor": 5
}